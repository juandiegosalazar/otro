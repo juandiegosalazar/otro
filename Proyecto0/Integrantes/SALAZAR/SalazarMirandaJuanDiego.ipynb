{
 "cells": [
  {
   "cell_type": "code",
   "execution_count": 1,
   "id": "79206e29-1511-44fb-b433-0b49c5d493f7",
   "metadata": {},
   "outputs": [
    {
     "name": "stdout",
     "output_type": "stream",
     "text": [
      "[1 2 3]\n"
     ]
    }
   ],
   "source": [
    "import numpy as np\n",
    "a=np.array([1,2,3])\n",
    "print(a)"
   ]
  },
  {
   "cell_type": "code",
   "execution_count": 2,
   "id": "f956459c-3c1d-4175-bc0f-7afb10867abf",
   "metadata": {},
   "outputs": [
    {
     "name": "stdout",
     "output_type": "stream",
     "text": [
      "[[1 2 3]\n",
      " [3 4 5]]\n"
     ]
    }
   ],
   "source": [
    "b=np.array([(1,2,3),(3,4,5)])\n",
    "print(b)"
   ]
  },
  {
   "cell_type": "code",
   "execution_count": 4,
   "id": "604103bd-a0bd-4b3c-bdbe-8222ed647714",
   "metadata": {},
   "outputs": [
    {
     "name": "stdout",
     "output_type": "stream",
     "text": [
      "[[1 2 3 4]\n",
      " [5 6 7 8]]\n"
     ]
    }
   ],
   "source": [
    "array=np.array([(1,2,3,4), (5,6,7,8)], dtype=np.int64)\n",
    "print(array)"
   ]
  },
  {
   "cell_type": "code",
   "execution_count": 5,
   "id": "0922c8e8-1cf2-41cf-a398-d62d1ca79da7",
   "metadata": {},
   "outputs": [
    {
     "name": "stdout",
     "output_type": "stream",
     "text": [
      "28000\n"
     ]
    }
   ],
   "source": [
    "import sys\n",
    "S=range(1000)\n",
    "print(sys.getsizeof(5)*len(S))"
   ]
  },
  {
   "cell_type": "code",
   "execution_count": 7,
   "id": "2268f9f8-923a-4c47-9bbd-d5677d36533b",
   "metadata": {},
   "outputs": [
    {
     "name": "stdout",
     "output_type": "stream",
     "text": [
      "8000\n"
     ]
    }
   ],
   "source": [
    "D=np.arange(1000)\n",
    "print(D.size*D.itemsize)"
   ]
  },
  {
   "cell_type": "code",
   "execution_count": 8,
   "id": "2c5095a0-7926-4c02-ae41-b244681d9cd3",
   "metadata": {},
   "outputs": [
    {
     "name": "stdout",
     "output_type": "stream",
     "text": [
      "402.20165252685547\n"
     ]
    }
   ],
   "source": [
    "import time\n",
    "SIZE = 1000000\n",
    "\n",
    "L1 = range(SIZE)\n",
    "L2 = range(SIZE)\n",
    "\n",
    "start= time.time()\n",
    "result= [(x,y) for x,y in zip(L1,L2)] # Se usa for \n",
    "print((time.time()-start)*1000) # Velocidad de NUMPY\n"
   ]
  },
  {
   "cell_type": "code",
   "execution_count": 9,
   "id": "b05a8913-4d2c-425b-9dcf-f58cb8c2e3e4",
   "metadata": {},
   "outputs": [
    {
     "name": "stdout",
     "output_type": "stream",
     "text": [
      "79.10728454589844\n"
     ]
    }
   ],
   "source": [
    "A1 = np.arange(SIZE)\n",
    "A2 = np.arange(SIZE)\n",
    "\n",
    "start = time.time()\n",
    "result = A1 + A2                # Solo se suma\n",
    "print((time.time()-start)*1000) # Velocidad de NUMPY"
   ]
  },
  {
   "cell_type": "code",
   "execution_count": null,
   "id": "8472f5ec-ffad-4924-91ad-2d16db8c155f",
   "metadata": {},
   "outputs": [],
   "source": []
  },
  {
   "cell_type": "code",
   "execution_count": 4,
   "id": "83787737-f7d3-4b7e-9f01-f83079eecc4d",
   "metadata": {},
   "outputs": [
    {
     "name": "stdout",
     "output_type": "stream",
     "text": [
      "[[1. 1. 1. 1.]\n",
      " [1. 1. 1. 1.]\n",
      " [1. 1. 1. 1.]]\n"
     ]
    }
   ],
   "source": [
    "import numpy as np\n",
    "# Crear una matriz de unos - 3 filas y 4 columnas\n",
    "unos = np.ones((3,4)) \n",
    "print(unos)"
   ]
  },
  {
   "cell_type": "code",
   "execution_count": 5,
   "id": "56239e4a-828a-4bdd-9407-ba939dda7a4e",
   "metadata": {},
   "outputs": [
    {
     "name": "stdout",
     "output_type": "stream",
     "text": [
      "[[0. 0. 0. 0.]\n",
      " [0. 0. 0. 0.]\n",
      " [0. 0. 0. 0.]]\n"
     ]
    }
   ],
   "source": [
    "# Crear una matriz de ceros - 3 filas y 4 columnas\n",
    "ceros = np.zeros((3,4))\n",
    "print(ceros)"
   ]
  },
  {
   "cell_type": "code",
   "execution_count": 6,
   "id": "c9decd7d-96ed-4a5f-bdee-d1e249671392",
   "metadata": {},
   "outputs": [
    {
     "name": "stdout",
     "output_type": "stream",
     "text": [
      "[[0.72896994 0.07391023]\n",
      " [0.45694179 0.58356663]]\n"
     ]
    }
   ],
   "source": [
    "# Crear una matriz con valores aleatorios\n",
    "aleatorios = np.random.random((2,2))\n",
    "print(aleatorios)"
   ]
  },
  {
   "cell_type": "code",
   "execution_count": 12,
   "id": "09a8f757-e120-4056-bb33-0250a1ed1a9f",
   "metadata": {},
   "outputs": [
    {
     "name": "stdout",
     "output_type": "stream",
     "text": [
      "[[1.94494243e-316 0.00000000e+000]\n",
      " [0.00000000e+000 0.00000000e+000]\n",
      " [0.00000000e+000 0.00000000e+000]]\n"
     ]
    }
   ],
   "source": [
    "# Crear una matriz vacia \n",
    "vacia = np.empty((3,2))\n",
    "print(vacia)"
   ]
  },
  {
   "cell_type": "code",
   "execution_count": 14,
   "id": "abd299d6-5b03-4aee-bf65-29d23c12d891",
   "metadata": {},
   "outputs": [
    {
     "name": "stdout",
     "output_type": "stream",
     "text": [
      "[[7 7]\n",
      " [7 7]]\n"
     ]
    }
   ],
   "source": [
    "# Crear una matriz de un solo valor\n",
    "full = np.full((2,2),7)\n",
    "print(full)"
   ]
  },
  {
   "cell_type": "code",
   "execution_count": 15,
   "id": "2445c446-a344-4571-a25a-303c2d392535",
   "metadata": {},
   "outputs": [
    {
     "name": "stdout",
     "output_type": "stream",
     "text": [
      "[ 0  5 10 15 20 25]\n"
     ]
    }
   ],
   "source": [
    "# Crear una matriz con valores espaciados uniformemente\n",
    "espacio1 = np.arange(0,30,5)\n",
    "print(espacio1)\n"
   ]
  },
  {
   "cell_type": "code",
   "execution_count": 17,
   "id": "6da6108b-9cd9-428f-bb9e-f8d654175b3b",
   "metadata": {},
   "outputs": [
    {
     "name": "stdout",
     "output_type": "stream",
     "text": [
      "[0.  0.5 1.  1.5 2. ]\n"
     ]
    }
   ],
   "source": [
    " espacio2 = np.linspace(0,2,5)\n",
    "print(espacio2)"
   ]
  },
  {
   "cell_type": "code",
   "execution_count": 18,
   "id": "d4f99228-9623-4f60-8ad4-46ffa6ad57e5",
   "metadata": {},
   "outputs": [
    {
     "name": "stdout",
     "output_type": "stream",
     "text": [
      "[[1. 0. 0. 0.]\n",
      " [0. 1. 0. 0.]\n",
      " [0. 0. 1. 0.]\n",
      " [0. 0. 0. 1.]]\n",
      "[[1. 0. 0. 0.]\n",
      " [0. 1. 0. 0.]\n",
      " [0. 0. 1. 0.]\n",
      " [0. 0. 0. 1.]]\n"
     ]
    }
   ],
   "source": [
    "# Crear una matriz identidad\n",
    "identidad1 = np.eye(4,4)\n",
    "print(identidad1)\n",
    "\n",
    "identidad2 = np.identity(4)\n",
    "print(identidad2)"
   ]
  },
  {
   "cell_type": "code",
   "execution_count": null,
   "id": "2907a827-a9d5-4ad2-a423-ff0fb536e884",
   "metadata": {},
   "outputs": [],
   "source": []
  },
  {
   "cell_type": "code",
   "execution_count": 19,
   "id": "1901f02c-fe15-4644-bd65-6fd8da1b7a32",
   "metadata": {},
   "outputs": [
    {
     "name": "stdout",
     "output_type": "stream",
     "text": [
      "2\n"
     ]
    }
   ],
   "source": [
    "# Conocer las dimenciones de una matriz \n",
    "a = np.array([(1,2,3),(4,5,6)])\n",
    "print(a.ndim)"
   ]
  },
  {
   "cell_type": "code",
   "execution_count": 20,
   "id": "d92ede85-8456-4ecb-8fd7-6a544798c113",
   "metadata": {},
   "outputs": [
    {
     "name": "stdout",
     "output_type": "stream",
     "text": [
      "int64\n"
     ]
    }
   ],
   "source": [
    "# Conocer el tipo de datos\n",
    "print(a.dtype)"
   ]
  },
  {
   "cell_type": "code",
   "execution_count": 21,
   "id": "52b0f698-4b62-4d1e-82c6-4057a8449765",
   "metadata": {},
   "outputs": [
    {
     "name": "stdout",
     "output_type": "stream",
     "text": [
      "6\n",
      "(1, 6)\n"
     ]
    }
   ],
   "source": [
    "# Conocer el tamano de una matriz\n",
    "a = np.array([(1,2,3,4,5,6)])\n",
    "print(a.size)\n",
    "print(a.shape)"
   ]
  },
  {
   "cell_type": "code",
   "execution_count": 25,
   "id": "3f08eedc-89d5-40de-8010-879f5f67badd",
   "metadata": {},
   "outputs": [
    {
     "name": "stdout",
     "output_type": "stream",
     "text": [
      "3\n"
     ]
    }
   ],
   "source": [
    "# Extraer un solo valor de la matriz - el valor ubicado en la fila 0 columna 2\n",
    "a = np.array([(1,2,3,4), (5,6,7,8)])\n",
    "print(a[0,2])"
   ]
  },
  {
   "cell_type": "code",
   "execution_count": 26,
   "id": "9a6a4ba0-1083-40a1-b8f6-098a532207db",
   "metadata": {},
   "outputs": [
    {
     "name": "stdout",
     "output_type": "stream",
     "text": [
      "[3 7]\n"
     ]
    }
   ],
   "source": [
    "# Extraer todos los valores de todas las filas ubicadas en la columna 3\n",
    "a = np.array([(1,2,3,4), (5,6,7,8)])\n",
    "print(a[0:,2])"
   ]
  },
  {
   "cell_type": "code",
   "execution_count": null,
   "id": "283010ef-dc01-43e0-9a82-c3a5cd0f642b",
   "metadata": {},
   "outputs": [],
   "source": []
  },
  {
   "cell_type": "code",
   "execution_count": 27,
   "id": "1b9f33ff-5390-45f6-a412-e3ad2f85fdf4",
   "metadata": {},
   "outputs": [
    {
     "name": "stdout",
     "output_type": "stream",
     "text": [
      "2\n",
      "800\n",
      "847\n"
     ]
    }
   ],
   "source": [
    "# Encontrar el minimo, maximo y la suma \n",
    "a = np.array([2,45,800])\n",
    "print(a.min())\n",
    "print(a.max())\n",
    "print(a.sum())"
   ]
  },
  {
   "cell_type": "code",
   "execution_count": 28,
   "id": "ebc0b25c-f44f-4f33-8017-0c79b1ab9e34",
   "metadata": {},
   "outputs": [
    {
     "name": "stdout",
     "output_type": "stream",
     "text": [
      "[[1.         2.         9.        ]\n",
      " [5.74456265 6.63324958 7.07106781]]\n",
      "27.5121185419565\n"
     ]
    }
   ],
   "source": [
    "# Calcular la raiz cuadrada y l adesviacion estandar\n",
    "a = np.array([(1,4,81),(33,44,50)])\n",
    "print(np.sqrt(a))\n",
    "print(np.std(a))"
   ]
  },
  {
   "cell_type": "code",
   "execution_count": 29,
   "id": "9ee7a4b0-6f97-4a60-b2f5-fefce0f15336",
   "metadata": {},
   "outputs": [
    {
     "name": "stdout",
     "output_type": "stream",
     "text": [
      "[[ 2  4  6]\n",
      " [ 6  8 10]]\n",
      "\n",
      "[[0 0 0]\n",
      " [0 0 0]]\n",
      "\n",
      "[[ 1  4  9]\n",
      " [ 9 16 25]]\n",
      "\n",
      "[[1. 1. 1.]\n",
      " [1. 1. 1.]]\n"
     ]
    }
   ],
   "source": [
    "# Calcular la suma, resta, multiplicacion, y division de dos matrices\n",
    "x = np.array([(1,2,3),(3,4,5)])\n",
    "y = np.array([(1,2,3),(3,4,5)])\n",
    "print(x+y)\n",
    "print()\n",
    "print(x-y)\n",
    "print()\n",
    "print(x*y)\n",
    "print()\n",
    "print(x/y)"
   ]
  },
  {
   "cell_type": "code",
   "execution_count": null,
   "id": "f3f99aaf-1213-4e5e-a4b7-b96daf2b1c35",
   "metadata": {},
   "outputs": [],
   "source": []
  }
 ],
 "metadata": {
  "kernelspec": {
   "display_name": "Python 3 (ipykernel)",
   "language": "python",
   "name": "python3"
  },
  "language_info": {
   "codemirror_mode": {
    "name": "ipython",
    "version": 3
   },
   "file_extension": ".py",
   "mimetype": "text/x-python",
   "name": "python",
   "nbconvert_exporter": "python",
   "pygments_lexer": "ipython3",
   "version": "3.11.7"
  }
 },
 "nbformat": 4,
 "nbformat_minor": 5
}
